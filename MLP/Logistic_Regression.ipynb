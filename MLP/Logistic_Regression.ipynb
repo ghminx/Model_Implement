{
 "cells": [
  {
   "cell_type": "markdown",
   "metadata": {},
   "source": [
    "### **Logistic Regression**\n",
    "\n",
    "종속변수가 범주형일때 사용하는 확률 기반의 분류 모델 \n",
    "\n",
    "- 사건이 발생할 확률 p를 구하는것이 목적 \n",
    "\n",
    "**$odds = p/1-p$  사건발생률(p) 발생할지 않을 확률(1-p)의 비로 사건이 발생할 가능성을 타나냄**\n",
    "\n",
    "$Logit(log-odds)$ : odds에 log를 씌운것으로 odds를 선형식으로 나타내기 위해  $log$ 를 취함 \n",
    "즉 로지스틱 회귀분석은 logit을 독립변수들과 $W,b$의 선형결합으로 표현하는것  \n",
    "\n",
    "**odds는 양수의 범위를 가져 선형식으로 나타내기 어렵기 때문에 log를 씌어 ($-\\infty$, $\\infty$) 의 범위로 바꿔 $y=wx+b$로 나타냄 출력값을 $sigmoid$에 넣어 사건이 발생할 확률로 타나냄**"
   ]
  },
  {
   "cell_type": "code",
   "execution_count": 4,
   "metadata": {},
   "outputs": [
    {
     "name": "stdout",
     "output_type": "stream",
     "text": [
      "tensor([[0.1733],\n",
      "        [0.0337]], grad_fn=<SigmoidBackward0>)\n"
     ]
    }
   ],
   "source": [
    "import torch\n",
    "import torch.nn as nn\n",
    "\n",
    "class Logistic(nn.Module):\n",
    "    def __init__(self, in_dim, out_dim):\n",
    "        super().__init__()\n",
    "        \n",
    "        self.fc = nn.Linear(in_dim, out_dim)\n",
    "        self.sigmoid = nn.Sigmoid()\n",
    "        \n",
    "    def forward(self, x):\n",
    "        \n",
    "        out = self.sigmoid(self.fc(x))\n",
    "        \n",
    "        return out\n",
    "\n",
    "\n",
    "# 입력 차원과 출력 차원을 정의\n",
    "model = Logistic(in_dim=2, out_dim=1)\n",
    "\n",
    "# 예제 데이터\n",
    "x = torch.tensor([[1.0, 2.0], [3.0, 4.0]])\n",
    "output = model(x)\n",
    "\n",
    "print(output)"
   ]
  }
 ],
 "metadata": {
  "kernelspec": {
   "display_name": "base",
   "language": "python",
   "name": "python3"
  },
  "language_info": {
   "codemirror_mode": {
    "name": "ipython",
    "version": 3
   },
   "file_extension": ".py",
   "mimetype": "text/x-python",
   "name": "python",
   "nbconvert_exporter": "python",
   "pygments_lexer": "ipython3",
   "version": "3.11.5"
  }
 },
 "nbformat": 4,
 "nbformat_minor": 2
}
