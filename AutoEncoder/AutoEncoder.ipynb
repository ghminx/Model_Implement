{
 "cells": [
  {
   "cell_type": "markdown",
   "id": "356403d8",
   "metadata": {},
   "source": [
    "### **AutoEncoder**\n",
    "\n",
    "- Unsupervised Learning \n",
    "- 입력을 저차원 잠재 공간(latent space)으로 압축 했다가 원본과 비슷한 출력으로 확장하여 재구성 하는 모델 \n",
    "\n",
    "\n",
    "<img src=\"./variational-autoencoder-neural-network.png\" width=\"700\"/>\n",
    "\n",
    "### **주요 목적**\n",
    "\n",
    "- 차원 축소\n",
    "- 노이즈 제거\n",
    "- 특성 학습(feature learning)\n",
    "- 이상치 탐지(anomaly detection)\n",
    "\n",
    "### **기본 구조**\n",
    "\n",
    "Input x ──▶ [Encoder] ──▶ z (잠재벡터) ──▶ [Decoder] ──▶ x̂ (재구성)\n",
    "\n",
    "#### **Encoder**\n",
    "\n",
    "- 여러 층의 신경망으로 입력 x -> 저차원 z \n",
    "\n",
    "#### **Decoder**\n",
    "- z → 원본 x와 같은 차원으로 복원"
   ]
  },
  {
   "cell_type": "markdown",
   "id": "c8caeaa3",
   "metadata": {},
   "source": [
    "### **Simple AutoEncoder**"
   ]
  },
  {
   "cell_type": "code",
   "execution_count": 1,
   "id": "acf99643",
   "metadata": {},
   "outputs": [],
   "source": [
    "import torch\n",
    "import torch.nn as nn \n",
    "import torch.nn.functional as F\n",
    "import torch.optim as optim\n",
    "import torchvision\n",
    "import torchvision.transforms as transforms\n",
    "import torchvision.datasets as datasets\n",
    "import torchvision.models as models\n",
    "from torch.utils.data import DataLoader, TensorDataset, random_split\n",
    "import matplotlib.pyplot as plt\n",
    "import random\n",
    "from sklearn.metrics import r2_score"
   ]
  },
  {
   "cell_type": "code",
   "execution_count": 2,
   "id": "57dd704f",
   "metadata": {},
   "outputs": [],
   "source": [
    "device = torch.device(\"cuda\" if torch.cuda.is_available() else \"cpu\")\n",
    "\n",
    "random.seed(777)\n",
    "torch.manual_seed(777)\n",
    "if device == 'cuda':\n",
    "    torch.cuda.manual_seed_all(777)"
   ]
  },
  {
   "cell_type": "code",
   "execution_count": 3,
   "id": "4a7d7934",
   "metadata": {},
   "outputs": [],
   "source": [
    "transforms = transforms.Compose([\n",
    "    transforms.ToTensor(),\n",
    "    transforms.Normalize(mean = [0.5], std = [0.5])\n",
    "])\n",
    "\n",
    "mnist_train = datasets.MNIST(root='./data', train=True, download=True, transform=transforms)\n",
    "mnist_test = datasets.MNIST(root='./data', train=False, download=True, transform=transforms)"
   ]
  },
  {
   "cell_type": "code",
   "execution_count": 18,
   "id": "dd24ef86",
   "metadata": {},
   "outputs": [],
   "source": [
    "idx_norm = [i for i, t in enumerate(mnist_train.targets) if t == 0]"
   ]
  },
  {
   "cell_type": "code",
   "execution_count": 20,
   "id": "eb6df7f6",
   "metadata": {},
   "outputs": [],
   "source": [
    "idx_norm = [] \n",
    "\n",
    "for i, t in enumerate(mnist_train.targets):\n",
    "    if t == 0:\n",
    "        idx_norm.append(i)"
   ]
  },
  {
   "cell_type": "code",
   "execution_count": 4,
   "id": "bdd424d4",
   "metadata": {},
   "outputs": [],
   "source": [
    "valid_size = int(len(mnist_test) * 0.5)\n",
    "test_size = len(mnist_test) - valid_size\n",
    "mnist_valid, mnist_test = random_split(mnist_test, [valid_size, test_size])\n",
    "\n",
    "batch_size = 32\n",
    "\n",
    "train_loader = DataLoader(mnist_train, batch_size=batch_size, shuffle=True)\n",
    "valid_loader = DataLoader(mnist_valid, batch_size=batch_size, shuffle=False)\n",
    "test_loader = DataLoader(mnist_test, batch_size=batch_size, shuffle=False)"
   ]
  },
  {
   "cell_type": "markdown",
   "id": "232be3ef",
   "metadata": {},
   "source": [
    "### **이미지 확인**"
   ]
  },
  {
   "cell_type": "code",
   "execution_count": 5,
   "id": "d664c06d",
   "metadata": {},
   "outputs": [
    {
     "data": {
      "image/png": "[encoded data removed]",
      "text/plain": [
       "<Figure size 640x480 with 9 Axes>"
      ]
     },
     "metadata": {},
     "output_type": "display_data"
    }
   ],
   "source": [
    "images = next(iter(train_loader))[:9]\n",
    "\n",
    "for i in range(9):\n",
    "    plt.subplot(3, 3, i+1)\n",
    "    plt.imshow(images[0][i][0], cmap='gray')\n",
    "    plt.title(f\"Label: {images[1][i]}\")\n",
    "    plt.axis('off')"
   ]
  },
  {
   "cell_type": "code",
   "execution_count": 7,
   "id": "fb785d63",
   "metadata": {},
   "outputs": [],
   "source": [
    "class AutoEncoder(nn.Module):\n",
    "    def __init__(self):\n",
    "        super().__init__()\n",
    "        \n",
    "        self.encoder = nn.Sequential(\n",
    "            nn.Linear(28 * 28, 256),\n",
    "            nn.ReLU(),\n",
    "            nn.Linear(256, 64),\n",
    "            nn.ReLU(),\n",
    "            nn.Linear(64, 32),\n",
    "        )\n",
    "        \n",
    "        self.decoder = nn.Sequential(\n",
    "            nn.Linear(32, 64),\n",
    "            nn.ReLU(),\n",
    "            nn.Linear(64, 256),\n",
    "            nn.ReLU(),\n",
    "            nn.Linear(256, 28 * 28),\n",
    "        )            \n",
    "        \n",
    "    def forward(self, x):\n",
    "        x = x.view(-1, 28 * 28)\n",
    "        x = self.encoder(x)\n",
    "        x = self.decoder(x)\n",
    "        x = x.view(-1, 1, 28, 28)\n",
    "        return x"
   ]
  },
  {
   "cell_type": "code",
   "execution_count": 8,
   "id": "a846f5ee",
   "metadata": {},
   "outputs": [
    {
     "name": "stdout",
     "output_type": "stream",
     "text": [
      "Epoch [1/10] Train Loss: 0.1270 Valid Loss: 0.0860\n",
      "Epoch [2/10] Train Loss: 0.0794 Valid Loss: 0.0713\n",
      "Epoch [3/10] Train Loss: 0.0686 Valid Loss: 0.0662\n",
      "Epoch [4/10] Train Loss: 0.0671 Valid Loss: 0.0651\n",
      "Epoch [5/10] Train Loss: 0.0660 Valid Loss: 0.0646\n",
      "Epoch [6/10] Train Loss: 0.0659 Valid Loss: 0.0645\n",
      "Epoch [7/10] Train Loss: 0.0657 Valid Loss: 0.0644\n",
      "Epoch [8/10] Train Loss: 0.0657 Valid Loss: 0.0644\n",
      "Epoch [9/10] Train Loss: 0.0657 Valid Loss: 0.0644\n",
      "Epoch [10/10] Train Loss: 0.0657 Valid Loss: 0.0644\n"
     ]
    }
   ],
   "source": [
    "model = AutoEncoder().to(device)\n",
    "criterion = nn.MSELoss()\n",
    "optimizer = optim.AdamW(model.parameters(), lr=1e-3, weight_decay=1e-4)\n",
    "scheduler = optim.lr_scheduler.StepLR(optimizer, step_size=2, gamma=0.1)\n",
    "epochs = 10\n",
    "\n",
    "\n",
    "train_losses = []\n",
    "valid_losses = []\n",
    "for epoch in range(1, epochs + 1):\n",
    "    model.train()\n",
    "    \n",
    "    train_loss = 0.0\n",
    "    for x_train, y_train in train_loader:\n",
    "        x_train, y_train = x_train.to(device), y_train.to(device)\n",
    "        \n",
    "        optimizer.zero_grad()\n",
    "        outs = model(x_train)\n",
    "        loss = criterion(outs, x_train)\n",
    "        loss.backward()\n",
    "        optimizer.step()\n",
    "        \n",
    "        train_loss += loss.item()\n",
    "        \n",
    "    train_loss /= len(train_loader)    # x /= y => x = x / y\n",
    "    train_losses.append(train_loss)\n",
    "    \n",
    "    valid_loss = 0.0\n",
    "    model.eval()\n",
    "    with torch.no_grad():\n",
    "        for x_valid, y_valid in valid_loader:\n",
    "            x_valid, y_valid = x_valid.to(device), y_valid.to(device)\n",
    "            \n",
    "            outs = model(x_valid)\n",
    "            loss = criterion(outs, x_valid)\n",
    "            \n",
    "            valid_loss += loss.item()\n",
    "            \n",
    "    valid_loss /= len(valid_loader)\n",
    "    valid_losses.append(valid_loss)\n",
    "    scheduler.step()\n",
    "    \n",
    "    print(f\"Epoch [{epoch}/{epochs}] Train Loss: {train_loss:.4f} Valid Loss: {valid_loss:.4f}\")"
   ]
  },
  {
   "cell_type": "code",
   "execution_count": 11,
   "id": "1fb58c3e",
   "metadata": {},
   "outputs": [
    {
     "data": {
      "image/png": "[encoded data removed]",
      "text/plain": [
       "<Figure size 1200x400 with 12 Axes>"
      ]
     },
     "metadata": {},
     "output_type": "display_data"
    }
   ],
   "source": [
    "import matplotlib.pyplot as plt\n",
    "\n",
    "model.eval()\n",
    "test_iter = iter(test_loader)\n",
    "x_test, _ = next(test_iter)\n",
    "x_test = x_test.to(device)\n",
    "\n",
    "# 복원 결과 얻기\n",
    "with torch.no_grad():\n",
    "    recon = model(x_test)\n",
    "\n",
    "# 정규화 해제 ([-1, 1] → [0, 1])\n",
    "x_test = x_test * 0.5 + 0.5\n",
    "recon = recon * 0.5 + 0.5\n",
    "\n",
    "# 시각화: 앞의 6개 비교\n",
    "n = 6\n",
    "plt.figure(figsize=(12, 4))\n",
    "for i in range(n):\n",
    "    # 원본\n",
    "    plt.subplot(2, n, i + 1)\n",
    "    plt.imshow(x_test[i].cpu().squeeze(), cmap='gray')\n",
    "    plt.title(\"Original\")\n",
    "    plt.axis('off')\n",
    "\n",
    "    # 복원\n",
    "    plt.subplot(2, n, i + 1 + n)\n",
    "    plt.imshow(recon[i].cpu().squeeze(), cmap='gray')\n",
    "    plt.title(\"Reconstructed\")\n",
    "    plt.axis('off')\n",
    "\n",
    "plt.tight_layout()\n",
    "plt.show()\n"
   ]
  },
  {
   "cell_type": "code",
   "execution_count": 110,
   "id": "39c528b2",
   "metadata": {},
   "outputs": [
    {
     "data": {
      "text/plain": [
       "<matplotlib.image.AxesImage at 0x22a1df0b9b0>"
      ]
     },
     "execution_count": 110,
     "metadata": {},
     "output_type": "execute_result"
    },
    {
     "data": {
      "image/png": "[encoded data removed]",
      "text/plain": [
       "<Figure size 640x480 with 1 Axes>"
      ]
     },
     "metadata": {},
     "output_type": "display_data"
    }
   ],
   "source": [
    "b = x_test * 0.5 + 0.5\n",
    "\n",
    "plt.imshow(b[0].cpu().squeeze(), cmap = 'gray')"
   ]
  }
 ],
 "metadata": {
  "kernelspec": {
   "display_name": "deep",
   "language": "python",
   "name": "python3"
  },
  "language_info": {
   "codemirror_mode": {
    "name": "ipython",
    "version": 3
   },
   "file_extension": ".py",
   "mimetype": "text/x-python",
   "name": "python",
   "nbconvert_exporter": "python",
   "pygments_lexer": "ipython3",
   "version": "3.12.9"
  }
 },
 "nbformat": 4,
 "nbformat_minor": 5
}
